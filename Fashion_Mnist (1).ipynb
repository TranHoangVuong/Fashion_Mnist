{
  "nbformat": 4,
  "nbformat_minor": 0,
  "metadata": {
    "colab": {
      "name": "Fashion_Mnist.ipynb",
      "provenance": [],
      "collapsed_sections": []
    },
    "kernelspec": {
      "name": "python3",
      "display_name": "Python 3"
    },
    "language_info": {
      "name": "python"
    }
  },
  "cells": [
    {
      "cell_type": "code",
      "execution_count": null,
      "metadata": {
        "id": "2mjP0OAZH4nZ"
      },
      "outputs": [],
      "source": [
        "from keras.models import Sequential\n",
        "from keras.layers import Conv2D, Dense, MaxPooling2D, Flatten,Dropout\n",
        "from tensorflow.keras.optimizers import RMSprop\n",
        "import numpy as np\n",
        "import matplotlib.pyplot as plt\n",
        "from keras.utils import np_utils\n",
        "from keras.models import Sequential\n",
        "from keras.layers import Dense, Activation,Dropout\n",
        "import tensorflow as tf\n",
        "\n",
        "from keras.datasets import fashion_mnist\n",
        "\n",
        "(x_train, y_train),(x_test, y_test) = fashion_mnist.load_data()"
      ]
    },
    {
      "cell_type": "code",
      "source": [
        "x_train = x_train.reshape(60000,28,28,1)\n",
        "x_test = x_test.reshape(10000,28,28,1)\n",
        "x_train = x_train.astype('float32')\n",
        "x_test = x_test.astype('float32')\n",
        "\n",
        "x_train /= 255\n",
        "x_test /= 255\n",
        "\n",
        "y_train = np_utils.to_categorical(y_train,10)\n",
        "y_test= np_utils.to_categorical(y_test,10)"
      ],
      "metadata": {
        "id": "uo3T8ZSSNvRz"
      },
      "execution_count": null,
      "outputs": []
    },
    {
      "cell_type": "code",
      "source": [
        "model = Sequential()\n",
        "model.add(Conv2D(input_shape=(28,28,1), kernel_size=(3,3), padding='same',  filters=32))\n",
        "model.add(MaxPooling2D(pool_size=(3,3),  padding='same'))\n",
        "\n",
        "model.add(Conv2D( kernel_size=(3,3), padding='same',  filters=64))\n",
        "model.add(MaxPooling2D(pool_size=(3,3),  padding='same'))\n",
        "\n",
        "model.add(Flatten())\n",
        "\n",
        "model.add(Dense(256, activation='relu', kernel_initializer='he_uniform'))\n",
        "model.add(Dropout(0.1))\n",
        "model.add(Dense(10, activation='softmax'))\n",
        "model.add(Dropout(0.1))\n",
        "model.summary()\n",
        "\n",
        "from tensorflow.keras.optimizers import SGD\n",
        "opt=SGD()\n",
        "\n",
        "model.compile(loss='categorical_crossentropy',\n",
        "              optimizer=opt,\n",
        "              metrics=['accuracy'])\n",
        "\n",
        "history = model.fit(x_train, y_train, batch_size = 128, epochs=50,validation_data=(x_test, y_test), verbose=1)\n",
        "\n",
        "test_loss,test_acc=model.evaluate(x_test, y_test)\n",
        "print(\"test accuracy: \",test_acc)"
      ],
      "metadata": {
        "colab": {
          "base_uri": "https://localhost:8080/"
        },
        "id": "QRo1kISvNvUH",
        "outputId": "23adeafd-4820-4910-9564-dc7b64719af2"
      },
      "execution_count": null,
      "outputs": [
        {
          "output_type": "stream",
          "name": "stdout",
          "text": [
            "Model: \"sequential_3\"\n",
            "_________________________________________________________________\n",
            " Layer (type)                Output Shape              Param #   \n",
            "=================================================================\n",
            " conv2d_4 (Conv2D)           (None, 28, 28, 32)        320       \n",
            "                                                                 \n",
            " max_pooling2d_4 (MaxPooling  (None, 10, 10, 32)       0         \n",
            " 2D)                                                             \n",
            "                                                                 \n",
            " conv2d_5 (Conv2D)           (None, 10, 10, 64)        18496     \n",
            "                                                                 \n",
            " max_pooling2d_5 (MaxPooling  (None, 4, 4, 64)         0         \n",
            " 2D)                                                             \n",
            "                                                                 \n",
            " flatten_2 (Flatten)         (None, 1024)              0         \n",
            "                                                                 \n",
            " dense_4 (Dense)             (None, 256)               262400    \n",
            "                                                                 \n",
            " dropout_4 (Dropout)         (None, 256)               0         \n",
            "                                                                 \n",
            " dense_5 (Dense)             (None, 10)                2570      \n",
            "                                                                 \n",
            " dropout_5 (Dropout)         (None, 10)                0         \n",
            "                                                                 \n",
            "=================================================================\n",
            "Total params: 283,786\n",
            "Trainable params: 283,786\n",
            "Non-trainable params: 0\n",
            "_________________________________________________________________\n",
            "Epoch 1/50\n",
            "469/469 [==============================] - 41s 87ms/step - loss: 2.7855 - accuracy: 0.5238 - val_loss: 0.7866 - val_accuracy: 0.7154\n",
            "Epoch 2/50\n",
            "469/469 [==============================] - 40s 86ms/step - loss: 2.2155 - accuracy: 0.6854 - val_loss: 0.6542 - val_accuracy: 0.7624\n",
            "Epoch 3/50\n",
            "469/469 [==============================] - 40s 86ms/step - loss: 2.1103 - accuracy: 0.7158 - val_loss: 0.5973 - val_accuracy: 0.7876\n",
            "Epoch 4/50\n",
            "469/469 [==============================] - 41s 86ms/step - loss: 2.0704 - accuracy: 0.7295 - val_loss: 0.5501 - val_accuracy: 0.8038\n",
            "Epoch 5/50\n",
            "469/469 [==============================] - 41s 87ms/step - loss: 2.0407 - accuracy: 0.7394 - val_loss: 0.5251 - val_accuracy: 0.8126\n",
            "Epoch 6/50\n",
            "469/469 [==============================] - 41s 86ms/step - loss: 2.0292 - accuracy: 0.7481 - val_loss: 0.4871 - val_accuracy: 0.8287\n",
            "Epoch 7/50\n",
            "469/469 [==============================] - 40s 86ms/step - loss: 1.9976 - accuracy: 0.7568 - val_loss: 0.4766 - val_accuracy: 0.8315\n",
            "Epoch 8/50\n",
            "469/469 [==============================] - 41s 87ms/step - loss: 1.9978 - accuracy: 0.7602 - val_loss: 0.4583 - val_accuracy: 0.8365\n",
            "Epoch 9/50\n",
            "469/469 [==============================] - 41s 87ms/step - loss: 1.9335 - accuracy: 0.7691 - val_loss: 0.4686 - val_accuracy: 0.8291\n",
            "Epoch 10/50\n",
            "469/469 [==============================] - 41s 87ms/step - loss: 2.0015 - accuracy: 0.7684 - val_loss: 0.4272 - val_accuracy: 0.8480\n",
            "Epoch 11/50\n",
            "469/469 [==============================] - 41s 86ms/step - loss: 1.9942 - accuracy: 0.7730 - val_loss: 0.4349 - val_accuracy: 0.8399\n",
            "Epoch 12/50\n",
            "469/469 [==============================] - 41s 87ms/step - loss: 1.9454 - accuracy: 0.7786 - val_loss: 0.4224 - val_accuracy: 0.8473\n",
            "Epoch 13/50\n",
            "469/469 [==============================] - 41s 87ms/step - loss: 1.8923 - accuracy: 0.7840 - val_loss: 0.3967 - val_accuracy: 0.8586\n",
            "Epoch 14/50\n",
            "469/469 [==============================] - 40s 86ms/step - loss: 1.9095 - accuracy: 0.7852 - val_loss: 0.3936 - val_accuracy: 0.8606\n",
            "Epoch 15/50\n",
            "469/469 [==============================] - 41s 87ms/step - loss: 1.9017 - accuracy: 0.7863 - val_loss: 0.3982 - val_accuracy: 0.8569\n",
            "Epoch 16/50\n",
            "469/469 [==============================] - 41s 88ms/step - loss: 1.8837 - accuracy: 0.7893 - val_loss: 0.3910 - val_accuracy: 0.8625\n",
            "Epoch 17/50\n",
            "469/469 [==============================] - 40s 86ms/step - loss: 1.9154 - accuracy: 0.7904 - val_loss: 0.3770 - val_accuracy: 0.8631\n",
            "Epoch 18/50\n",
            "469/469 [==============================] - 41s 87ms/step - loss: 1.9275 - accuracy: 0.7899 - val_loss: 0.3759 - val_accuracy: 0.8619\n",
            "Epoch 19/50\n",
            "469/469 [==============================] - 41s 86ms/step - loss: 1.9154 - accuracy: 0.7922 - val_loss: 0.3800 - val_accuracy: 0.8645\n",
            "Epoch 20/50\n",
            "469/469 [==============================] - 41s 87ms/step - loss: 1.9103 - accuracy: 0.7948 - val_loss: 0.3630 - val_accuracy: 0.8716\n",
            "Epoch 21/50\n",
            "469/469 [==============================] - 41s 86ms/step - loss: 1.9406 - accuracy: 0.7929 - val_loss: 0.3705 - val_accuracy: 0.8682\n",
            "Epoch 22/50\n",
            "469/469 [==============================] - 41s 87ms/step - loss: 1.9130 - accuracy: 0.7959 - val_loss: 0.3849 - val_accuracy: 0.8593\n",
            "Epoch 23/50\n",
            "469/469 [==============================] - 40s 86ms/step - loss: 1.8625 - accuracy: 0.8003 - val_loss: 0.3573 - val_accuracy: 0.8724\n",
            "Epoch 24/50\n",
            "469/469 [==============================] - 41s 86ms/step - loss: 1.9122 - accuracy: 0.7980 - val_loss: 0.3493 - val_accuracy: 0.8732\n",
            "Epoch 25/50\n",
            "469/469 [==============================] - 41s 87ms/step - loss: 1.8786 - accuracy: 0.8018 - val_loss: 0.3501 - val_accuracy: 0.8733\n",
            "Epoch 26/50\n",
            "469/469 [==============================] - 41s 87ms/step - loss: 1.9003 - accuracy: 0.8009 - val_loss: 0.3447 - val_accuracy: 0.8750\n",
            "Epoch 27/50\n",
            "469/469 [==============================] - 41s 87ms/step - loss: 1.8822 - accuracy: 0.8027 - val_loss: 0.3408 - val_accuracy: 0.8770\n",
            "Epoch 28/50\n",
            "469/469 [==============================] - 41s 87ms/step - loss: 1.8797 - accuracy: 0.8042 - val_loss: 0.3357 - val_accuracy: 0.8806\n",
            "Epoch 29/50\n",
            "469/469 [==============================] - 41s 87ms/step - loss: 1.8814 - accuracy: 0.8046 - val_loss: 0.3378 - val_accuracy: 0.8785\n",
            "Epoch 30/50\n",
            "469/469 [==============================] - 41s 87ms/step - loss: 1.8795 - accuracy: 0.8052 - val_loss: 0.3331 - val_accuracy: 0.8801\n",
            "Epoch 31/50\n",
            "469/469 [==============================] - 41s 87ms/step - loss: 1.8866 - accuracy: 0.8054 - val_loss: 0.3292 - val_accuracy: 0.8834\n",
            "Epoch 32/50\n",
            "469/469 [==============================] - 41s 87ms/step - loss: 1.8684 - accuracy: 0.8074 - val_loss: 0.3282 - val_accuracy: 0.8826\n",
            "Epoch 33/50\n",
            "469/469 [==============================] - 41s 87ms/step - loss: 1.8738 - accuracy: 0.8073 - val_loss: 0.3310 - val_accuracy: 0.8800\n",
            "Epoch 34/50\n",
            "469/469 [==============================] - 41s 87ms/step - loss: 1.8273 - accuracy: 0.8108 - val_loss: 0.3371 - val_accuracy: 0.8794\n",
            "Epoch 35/50\n",
            "469/469 [==============================] - 41s 87ms/step - loss: 1.9072 - accuracy: 0.8082 - val_loss: 0.3287 - val_accuracy: 0.8803\n",
            "Epoch 36/50\n",
            "469/469 [==============================] - 41s 87ms/step - loss: 1.8070 - accuracy: 0.8122 - val_loss: 0.3251 - val_accuracy: 0.8824\n",
            "Epoch 37/50\n",
            "469/469 [==============================] - 41s 87ms/step - loss: 1.8533 - accuracy: 0.8113 - val_loss: 0.3183 - val_accuracy: 0.8877\n",
            "Epoch 38/50\n",
            "469/469 [==============================] - 41s 87ms/step - loss: 1.8344 - accuracy: 0.8134 - val_loss: 0.3224 - val_accuracy: 0.8825\n",
            "Epoch 39/50\n",
            "469/469 [==============================] - 41s 87ms/step - loss: 1.8252 - accuracy: 0.8140 - val_loss: 0.3144 - val_accuracy: 0.8863\n",
            "Epoch 40/50\n",
            "469/469 [==============================] - 41s 87ms/step - loss: 1.8464 - accuracy: 0.8141 - val_loss: 0.3123 - val_accuracy: 0.8896\n",
            "Epoch 41/50\n",
            "469/469 [==============================] - 41s 87ms/step - loss: 1.8472 - accuracy: 0.8133 - val_loss: 0.3153 - val_accuracy: 0.8863\n",
            "Epoch 42/50\n",
            "469/469 [==============================] - 41s 87ms/step - loss: 1.8182 - accuracy: 0.8155 - val_loss: 0.3070 - val_accuracy: 0.8920\n",
            "Epoch 43/50\n",
            "469/469 [==============================] - 41s 88ms/step - loss: 1.8363 - accuracy: 0.8154 - val_loss: 0.3107 - val_accuracy: 0.8872\n",
            "Epoch 44/50\n",
            "469/469 [==============================] - 41s 88ms/step - loss: 1.8310 - accuracy: 0.8160 - val_loss: 0.3156 - val_accuracy: 0.8871\n",
            "Epoch 45/50\n",
            "469/469 [==============================] - 41s 88ms/step - loss: 1.8608 - accuracy: 0.8152 - val_loss: 0.3030 - val_accuracy: 0.8902\n",
            "Epoch 46/50\n",
            "469/469 [==============================] - 41s 87ms/step - loss: 1.8698 - accuracy: 0.8152 - val_loss: 0.3018 - val_accuracy: 0.8886\n",
            "Epoch 47/50\n",
            "469/469 [==============================] - 41s 87ms/step - loss: 1.8290 - accuracy: 0.8168 - val_loss: 0.3078 - val_accuracy: 0.8909\n",
            "Epoch 48/50\n",
            "469/469 [==============================] - 41s 88ms/step - loss: 1.8436 - accuracy: 0.8183 - val_loss: 0.3113 - val_accuracy: 0.8871\n",
            "Epoch 49/50\n",
            "469/469 [==============================] - 41s 87ms/step - loss: 1.8290 - accuracy: 0.8189 - val_loss: 0.3053 - val_accuracy: 0.8898\n",
            "Epoch 50/50\n",
            "469/469 [==============================] - 41s 88ms/step - loss: 1.8590 - accuracy: 0.8173 - val_loss: 0.3098 - val_accuracy: 0.8877\n",
            "313/313 [==============================] - 3s 9ms/step - loss: 0.3098 - accuracy: 0.8877\n",
            "test accuracy:  0.8877000212669373\n"
          ]
        }
      ]
    },
    {
      "cell_type": "code",
      "source": [
        "acc = history.history['accuracy']\n",
        "val_acc = history.history['val_accuracy']\n",
        "\n",
        "plt.figure()\n",
        "plt.plot(acc,color = 'purple',label = 'Training Acuracy')\n",
        "plt.plot(val_acc,color = 'blue',label = 'Validation Accuracy')\n",
        "plt.legend()"
      ],
      "metadata": {
        "colab": {
          "base_uri": "https://localhost:8080/",
          "height": 282
        },
        "id": "bWVrrWV-NvWj",
        "outputId": "3321de7e-e485-46ee-a815-d6a01b048bc4"
      },
      "execution_count": null,
      "outputs": [
        {
          "output_type": "execute_result",
          "data": {
            "text/plain": [
              "<matplotlib.legend.Legend at 0x7f1f1949cd50>"
            ]
          },
          "metadata": {},
          "execution_count": 16
        },
        {
          "output_type": "display_data",
          "data": {
            "text/plain": [
              "<Figure size 432x288 with 1 Axes>"
            ],
            "image/png": "[encoded data removed]"
          },
          "metadata": {
            "needs_background": "light"
          }
        }
      ]
    },
    {
      "cell_type": "code",
      "source": [
        "loss = history.history['loss']\n",
        "val_loss = history.history['val_loss']\n",
        "\n",
        "plt.figure()\n",
        "plt.plot(loss,color = 'green',label = 'Training Loss')\n",
        "plt.plot(val_loss,color = 'red',label = 'Validation Loss')\n",
        "plt.legend()"
      ],
      "metadata": {
        "colab": {
          "base_uri": "https://localhost:8080/",
          "height": 282
        },
        "id": "rI5J-WusNvay",
        "outputId": "b14599fa-2885-4b99-b649-19b671251972"
      },
      "execution_count": null,
      "outputs": [
        {
          "output_type": "execute_result",
          "data": {
            "text/plain": [
              "<matplotlib.legend.Legend at 0x7f1f1b68a1d0>"
            ]
          },
          "metadata": {},
          "execution_count": 17
        },
        {
          "output_type": "display_data",
          "data": {
            "text/plain": [
              "<Figure size 432x288 with 1 Axes>"
            ],
            "image/png": "[encoded data removed]"
          },
          "metadata": {
            "needs_background": "light"
          }
        }
      ]
    },
    {
      "cell_type": "code",
      "source": [
        "#lưu lại mô hình \n",
        "model.save('CNN_Mnist_final.h5')\n",
        "# lấy lại mô hình \n",
        "from keras import models\n",
        "model500=models.load_model('CNN_Mnist_final.h5')"
      ],
      "metadata": {
        "id": "WTbP5ZzBOHTV"
      },
      "execution_count": null,
      "outputs": []
    },
    {
      "cell_type": "code",
      "source": [
        ""
      ],
      "metadata": {
        "id": "rHqF9_LIOHVm"
      },
      "execution_count": null,
      "outputs": []
    },
    {
      "cell_type": "code",
      "source": [
        ""
      ],
      "metadata": {
        "id": "7DM-V09BNvhN"
      },
      "execution_count": null,
      "outputs": []
    }
  ]
}